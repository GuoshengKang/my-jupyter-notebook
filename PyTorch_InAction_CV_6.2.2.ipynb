{
 "cells": [
  {
   "cell_type": "code",
   "execution_count": 1,
   "metadata": {},
   "outputs": [
    {
     "name": "stdout",
     "output_type": "stream",
     "text": [
      "Epoch:0,Loss:57837868.0000\n",
      "Epoch:1,Loss:150053888.0000\n",
      "Epoch:2,Loss:511903136.0000\n",
      "Epoch:3,Loss:578359744.0000\n",
      "Epoch:4,Loss:6189977.0000\n",
      "Epoch:5,Loss:4252452.5000\n",
      "Epoch:6,Loss:3137638.5000\n",
      "Epoch:7,Loss:2442766.2500\n",
      "Epoch:8,Loss:1983236.7500\n",
      "Epoch:9,Loss:1664413.5000\n",
      "Epoch:10,Loss:1433639.0000\n",
      "Epoch:11,Loss:1259147.8750\n",
      "Epoch:12,Loss:1123043.3750\n",
      "Epoch:13,Loss:1013076.8750\n",
      "Epoch:14,Loss:921789.3750\n",
      "Epoch:15,Loss:844278.4375\n",
      "Epoch:16,Loss:777374.3750\n",
      "Epoch:17,Loss:718818.3125\n",
      "Epoch:18,Loss:667063.4375\n",
      "Epoch:19,Loss:620865.2500\n"
     ]
    }
   ],
   "source": [
    "import  torch\n",
    "from torch.autograd import Variable\n",
    "\n",
    "batch_n=100\n",
    "hidden_layer=100\n",
    "input_data=1000\n",
    "output_data=10\n",
    "\n",
    "class Model(torch.nn.Module):\n",
    "\tdef __init__(self):\n",
    "\t\tsuper(Model,self).__init__()\n",
    "\n",
    "\tdef forward(self,input,w1,w2):\n",
    "\t\tx=torch.mm(input,w1)\n",
    "\t\tx=torch.clamp(x,min=0)\n",
    "\t\tx=torch.mm(x,w2)\n",
    "\t\treturn x\n",
    "\n",
    "\tdef backward(self):\n",
    "\t\tpass\n",
    "\n",
    "model=Model()\n",
    "x=Variable(torch.randn(batch_n,input_data),requires_grad=False)\n",
    "y=Variable(torch.randn(batch_n,output_data),requires_grad=False)\n",
    "\n",
    "w1=Variable(torch.randn(input_data,hidden_layer),requires_grad=True)\n",
    "w2=Variable(torch.randn(hidden_layer,output_data),requires_grad=True)\n",
    "\n",
    "epoch_n=20\n",
    "learning_rate=1e-6\n",
    "\n",
    "for epoch in range(epoch_n):\n",
    "\n",
    "\ty_pred=model(x,w1,w2)\n",
    "\tloss=(y_pred-y).pow(2).sum()\n",
    "\tprint(\"Epoch:{},Loss:{:.4f}\".format(epoch,loss.data[0]))\n",
    "\n",
    "\tloss.backward()\n",
    "\n",
    "\tw1.data-=learning_rate*w1.grad.data\n",
    "\tw2.data-=learning_rate*w2.grad.data\n",
    "\n",
    "\tw1.grad.data.zero_()\n",
    "\tw2.grad.data.zero_()\n"
   ]
  },
  {
   "cell_type": "code",
   "execution_count": null,
   "metadata": {},
   "outputs": [],
   "source": []
  }
 ],
 "metadata": {
  "kernelspec": {
   "display_name": "Python 3",
   "language": "python",
   "name": "python3"
  },
  "language_info": {
   "codemirror_mode": {
    "name": "ipython",
    "version": 3
   },
   "file_extension": ".py",
   "mimetype": "text/x-python",
   "name": "python",
   "nbconvert_exporter": "python",
   "pygments_lexer": "ipython3",
   "version": "3.6.5"
  }
 },
 "nbformat": 4,
 "nbformat_minor": 2
}
