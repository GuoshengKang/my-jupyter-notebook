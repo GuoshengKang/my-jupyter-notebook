{
 "cells": [
  {
   "cell_type": "code",
   "execution_count": 1,
   "metadata": {},
   "outputs": [
    {
     "name": "stdout",
     "output_type": "stream",
     "text": [
      "Epoch[100/1000],loss:0.274454\n",
      "Epoch[200/1000],loss:0.269192\n",
      "Epoch[300/1000],loss:0.264193\n",
      "Epoch[400/1000],loss:0.259444\n",
      "Epoch[500/1000],loss:0.254934\n",
      "Epoch[600/1000],loss:0.250649\n",
      "Epoch[700/1000],loss:0.246579\n",
      "Epoch[800/1000],loss:0.242712\n",
      "Epoch[900/1000],loss:0.239039\n",
      "Epoch[1000/1000],loss:0.235550\n"
     ]
    },
    {
     "data": {
      "image/png": "[encoded data removed]",
      "text/plain": [
       "<Figure size 432x288 with 1 Axes>"
      ]
     },
     "metadata": {},
     "output_type": "display_data"
    }
   ],
   "source": [
    "#!/usr/bin/env python\n",
    "# -*- coding: utf-8 -*-\n",
    "# @Date    : 2018-09-17 17:35:04\n",
    "# @Author  : Guosheng Kang (guoshengkang@gmail.com)\n",
    "import os\n",
    "import numpy as np\n",
    "import matplotlib as mpl\n",
    "import matplotlib.pylab as plt\n",
    "import torch\n",
    "from torch import nn\n",
    "from torch.autograd import Variable\n",
    "%matplotlib inline\n",
    "\n",
    "x_train=np.array([3.3,4.4,5.5,6.71,6.93,4.168,9.779,6.182,7.59,2.167,7.042,10.791,5.313,7.997,3.1],dtype=np.float32)\n",
    "y_train=np.array([1.7,2.76,2.09,3.19,1.694,1.573,3.366,2.596,2.53,1.221,2.827,3.465,1.65,2.94,1.3],dtype=np.float32)\n",
    "x_train=x_train.reshape((len(x_train),1))\n",
    "y_train=y_train.reshape((len(y_train),1))\n",
    "x_train=torch.from_numpy(x_train)\n",
    "y_train=torch.from_numpy(y_train)\n",
    "class LinearRegression(nn.Module):\n",
    "\tdef __init__(self):\n",
    "\t\tsuper(LinearRegression,self).__init__()\n",
    "\t\tself.linear=nn.Linear(1,1)\n",
    "\n",
    "\tdef forward(self,x):\n",
    "\t\tout=self.linear(x)\n",
    "\t\treturn out\n",
    "\n",
    "model=LinearRegression()\n",
    "criterion=nn.MSELoss()\n",
    "optimizer=torch.optim.SGD(model.parameters(),lr=1e-3)\n",
    "num_epochs=1000\n",
    "for  epoch in range(num_epochs):\n",
    "\tinputs=Variable(x_train)\n",
    "\ttarget=Variable(y_train)\n",
    "\tout=model(inputs)\n",
    "\tloss=criterion(out,target)\n",
    "\toptimizer.zero_grad()\n",
    "\tloss.backward()\n",
    "\toptimizer.step()\n",
    "\tif (epoch+1)%100==0:\n",
    "\t\tprint('Epoch[{}/{}],loss:{:.6f}'.format(epoch+1,num_epochs,loss.data[0]))\n",
    "\n",
    "model.eval()\n",
    "model.cpu()\n",
    "predict=model(Variable(x_train))\n",
    "predict=predict.data.numpy()\n",
    "fig = plt.figure(1)  \n",
    "ax  = fig.add_subplot(111) \n",
    "plt.plot(x_train.numpy(),y_train.numpy(),'ro',label='Original data')\n",
    "plt.plot(x_train.numpy(),predict,label='Fitting data')\n",
    "# plt.savefig('testfig.png')\n",
    "plt.show()\n",
    "\n"
   ]
  },
  {
   "cell_type": "code",
   "execution_count": null,
   "metadata": {},
   "outputs": [],
   "source": []
  }
 ],
 "metadata": {
  "kernelspec": {
   "display_name": "Python 3",
   "language": "python",
   "name": "python3"
  },
  "language_info": {
   "codemirror_mode": {
    "name": "ipython",
    "version": 3
   },
   "file_extension": ".py",
   "mimetype": "text/x-python",
   "name": "python",
   "nbconvert_exporter": "python",
   "pygments_lexer": "ipython3",
   "version": "3.6.5"
  }
 },
 "nbformat": 4,
 "nbformat_minor": 2
}
