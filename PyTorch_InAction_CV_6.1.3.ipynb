{
 "cells": [
  {
   "cell_type": "code",
   "execution_count": 1,
   "metadata": {},
   "outputs": [
    {
     "name": "stdout",
     "output_type": "stream",
     "text": [
      "Epoch:0,Loss:56213345.6805\n",
      "Epoch:1,Loss:150974591.5734\n",
      "Epoch:2,Loss:482211385.0875\n",
      "Epoch:3,Loss:545347320.2368\n",
      "Epoch:4,Loss:13292269.1083\n",
      "Epoch:5,Loss:6330447.9406\n",
      "Epoch:6,Loss:3764519.2663\n",
      "Epoch:7,Loss:2650506.8994\n",
      "Epoch:8,Loss:2101078.8525\n",
      "Epoch:9,Loss:1790596.1623\n",
      "Epoch:10,Loss:1588887.9722\n",
      "Epoch:11,Loss:1441162.2342\n",
      "Epoch:12,Loss:1323480.4399\n",
      "Epoch:13,Loss:1224510.2199\n",
      "Epoch:14,Loss:1138602.8665\n",
      "Epoch:15,Loss:1062703.3392\n",
      "Epoch:16,Loss:994871.7814\n",
      "Epoch:17,Loss:933700.9701\n",
      "Epoch:18,Loss:878272.4508\n",
      "Epoch:19,Loss:827824.4260\n"
     ]
    }
   ],
   "source": [
    "import  torch\n",
    "batch_n=100\n",
    "hidden_layer=100\n",
    "input_data=1000\n",
    "output_data=10\n",
    "\n",
    "x=torch.randn(batch_n,input_data)\n",
    "y=torch.randn(batch_n,output_data)\n",
    "\n",
    "w1=torch.randn(input_data,hidden_layer)\n",
    "w2=torch.randn(hidden_layer,output_data)\n",
    "\n",
    "epoch_n=20\n",
    "learning_rate=1e-6\n",
    "\n",
    "for epoch in range(epoch_n):\n",
    "\th1=x.mm(w1) # 100*100\n",
    "\th1=h1.clamp(min=0)\n",
    "\ty_pred=h1.mm(w2) # 100*10\n",
    "\tloss=(y_pred-y).pow(2).sum()\n",
    "\tprint(\"Epoch:{},Loss:{:.4f}\".format(epoch,loss))\n",
    "\n",
    "\tgrad_y_pred=2*(y_pred-y)\n",
    "\tgrad_w2=h1.t().mm(grad_y_pred)\n",
    "\n",
    "\tgrad_h=grad_y_pred.clone()\n",
    "\tgrad_h=grad_h.mm(w2.t())\n",
    "\tgrad_h.clamp_(min=0)\n",
    "\tgrad_w1=x.t().mm(grad_h)\n",
    "\n",
    "\tw1-=learning_rate*grad_w1\n",
    "\tw2-=learning_rate*grad_w2"
   ]
  },
  {
   "cell_type": "code",
   "execution_count": null,
   "metadata": {},
   "outputs": [],
   "source": []
  }
 ],
 "metadata": {
  "kernelspec": {
   "display_name": "Python 3",
   "language": "python",
   "name": "python3"
  },
  "language_info": {
   "codemirror_mode": {
    "name": "ipython",
    "version": 3
   },
   "file_extension": ".py",
   "mimetype": "text/x-python",
   "name": "python",
   "nbconvert_exporter": "python",
   "pygments_lexer": "ipython3",
   "version": "3.6.5"
  }
 },
 "nbformat": 4,
 "nbformat_minor": 2
}
