{
 "cells": [
  {
   "cell_type": "markdown",
   "metadata": {},
   "source": [
    "# 目录\n",
    "- **例4-2**\n",
    "- **例4-7**\n",
    "- **例4-8**\n",
    "- **例4-9**\n",
    "- **例4-10**\n",
    "- **例4-12**\n",
    "- **例4-15**\n",
    "- **例4-17**"
   ]
  },
  {
   "cell_type": "markdown",
   "metadata": {},
   "source": [
    "# 例4-2"
   ]
  },
  {
   "cell_type": "code",
   "execution_count": 5,
   "metadata": {},
   "outputs": [],
   "source": [
    "#!/usr/bin/env python\n",
    "# -*- coding: utf-8 -*-\n",
    "# @Date    : 2018-11-19 11:52:24\n",
    "# @Author  : Guosheng Kang (guoshengkang@gmail.com)\n",
    "\n",
    "import os\n",
    "import tkinter\n",
    "\n",
    "win=tkinter.Tk()\n",
    "win.title(\"标签示例\")\n",
    "win.geometry('400x200')\n",
    "label=tkinter.Label(win,\\\n",
    "\ttext='欢迎进入Python世界',\\\n",
    "\tfont='宋体',\\\n",
    "\tfg='#0000ff')\n",
    "label.pack()\n",
    "win.mainloop()\n",
    "\n"
   ]
  },
  {
   "cell_type": "markdown",
   "metadata": {},
   "source": [
    "# 例4-7"
   ]
  },
  {
   "cell_type": "code",
   "execution_count": 6,
   "metadata": {},
   "outputs": [],
   "source": [
    "#!/usr/bin/env python\n",
    "# -*- coding: utf-8 -*-\n",
    "# @Date    : 2018-11-19 11:52:24\n",
    "# @Author  : Guosheng Kang (guoshengkang@gmail.com)\n",
    "\n",
    "import os\n",
    "from tkinter import *\n",
    "\n",
    "win=Tk()\n",
    "win.geometry('350x116')\n",
    "win.title('密码验证')\n",
    "\n",
    "# 提交按钮事件\n",
    "def mClick():\n",
    "\ttxt=txt2.get()\n",
    "\tif txt=='abc':\n",
    "\t\ttxt3.set(\"欢迎进入本系统\")\n",
    "\n",
    "# 创建几个组件元素\n",
    "lab1=Label(win,text=\"请输入用户名\",font=('华文新魏','16'))\n",
    "lab2=Label(win,text=\"请输入密  码\",font=('华文新魏','16'))\n",
    "txt1=StringVar()\n",
    "txt2=StringVar()\n",
    "txt3=StringVar()\n",
    "txt3.set(\"请输入用户名和密码\")\n",
    "entry1=Entry(win,textvariable=txt1,width=16,font=('宋体','16'))\n",
    "entry2=Entry(win,textvariable=txt2,width=16,show='*',font=('宋体','16'))\n",
    "button=Button(win,text='提交',command=mClick,font=('宋体','16'))\n",
    "lab3=Label(win,textvariable=txt3,relief='ridge',width=30,font=('华文新魏','16'))\n",
    "\n",
    "# 布局设置\n",
    "lab1.grid(row=0,column=0)\n",
    "lab2.grid(row=1,column=0)\n",
    "entry1.grid(row=0,column=1)\n",
    "entry2.grid(row=1,column=1)\n",
    "lab3.grid(row=2,column=0,columnspan=2)\n",
    "button.grid(row=2,column=2)\n",
    "\n",
    "win.mainloop()"
   ]
  },
  {
   "cell_type": "markdown",
   "metadata": {},
   "source": [
    "# 例4-8"
   ]
  },
  {
   "cell_type": "code",
   "execution_count": 8,
   "metadata": {},
   "outputs": [],
   "source": [
    "#!/usr/bin/env python\n",
    "# -*- coding: utf-8 -*-\n",
    "# @Date    : 2018-11-19 21:08:34\n",
    "# @Author  : Guosheng Kang (guoshengkang@gmail.com)\n",
    "\n",
    "import os\n",
    "from tkinter import *\n",
    "import tkinter as tk\n",
    "\n",
    "win=Tk()\n",
    "win.geometry('400x200')\n",
    "win.title('单选按钮和复选按钮示例')\n",
    "\n",
    "# 显示选择状态的标签\n",
    "txt=StringVar()\n",
    "txt.set('请选择')\n",
    "lab=Label(win,textvariable=txt,relief='ridge',width=30)\n",
    "\n",
    "# 复选框\n",
    "chVarDis=tk.IntVar()\n",
    "check1=tk.Checkbutton(win,text=\"C语言\",variable=chVarDis,state='disabled')\n",
    "check1.select()\n",
    "\n",
    "chvarUn=tk.IntVar()\n",
    "check2=tk.Checkbutton(win,text=\"Java\",variable=chvarUn,state='disabled')\n",
    "check2.deselect()\n",
    "\n",
    "chvarEn=tk.IntVar()\n",
    "check3=tk.Checkbutton(win,text=\"Python\",variable=chvarEn,state='disabled')\n",
    "check3.select()\n",
    "\n",
    "# 单选按钮\n",
    "chk=[\"鲜花\",\"鼓掌\",\"鸡蛋\"]\n",
    "\n",
    "# 单选按钮的回调函数,当单选俺就被单击执行该函数\n",
    "def radCall():\n",
    "\tradSel=radVar.get()\n",
    "\tif radSel==0:\n",
    "\t\ttxt.set(chk[0])\n",
    "\telif radSel==1:\n",
    "\t\ttxt.set(chk[1])\n",
    "\telif radSel==2:\t\n",
    "\t\ttxt.set(chk[2])\n",
    "\tprint(radVar.get())\n",
    "\n",
    "radVar=tk.IntVar()\n",
    "for i in range(3):\n",
    "\tcurRad=tk.Radiobutton(win,text=chk[i],variable=radVar,value=i,command=radCall)\n",
    "\tcurRad.grid(column=i,row=5,sticky=tk.W)\n",
    "\n",
    "lab.grid(row=0,column=0,columnspan=3)\n",
    "check1.grid(column=0,row=4,sticky=tk.W)\n",
    "check2.grid(column=1,row=4,sticky=tk.W)\n",
    "check3.grid(column=2,row=4,sticky=tk.W)\n",
    "\n",
    "win.mainloop()"
   ]
  },
  {
   "cell_type": "markdown",
   "metadata": {},
   "source": [
    "# 例4-9"
   ]
  },
  {
   "cell_type": "code",
   "execution_count": 9,
   "metadata": {},
   "outputs": [],
   "source": [
    "#!/usr/bin/env python\n",
    "# -*- coding: utf-8 -*-\n",
    "# @Date    : 2018-11-19 21:08:34\n",
    "# @Author  : Guosheng Kang (guoshengkang@gmail.com)\n",
    "\n",
    "import os\n",
    "from tkinter import *\n",
    "import tkinter as tk\n",
    "from tkinter import ttk\n",
    "from tkinter import scrolledtext\n",
    "\n",
    "win=Tk()\n",
    "win.title(\"Python组件演示\")\n",
    "monty=ttk.LabelFrame(win,text=\"标签框架\")\n",
    "monty.grid(column=0,row=0,padx=10,pady=10)\n",
    "aLabel=ttk.Label(monty,text=\"请选择一个数字:\").grid(column=1,row=0)\n",
    "\n",
    "# 按钮方法\n",
    "def clickMe():\n",
    "\taction.configure(text='Hello'+' '+numberChosen.get())\n",
    "\n",
    "# 按钮\n",
    "action=ttk.Button(monty,text=\"单击我！\",command=clickMe)\n",
    "action.grid(column=2,row=1)\n",
    "\n",
    "# 创建一个下拉框\n",
    "num=tk.StringVar()\n",
    "numberChosen=ttk.Combobox(monty,width=12,textvariable=num,state='readonly')\n",
    "numberChosen['values']=(1,2,4,42,100)\n",
    "numberChosen.grid(column=1,row=1)\n",
    "numberChosen.current(0)\n",
    "\n",
    "# 滚动文本框\n",
    "scr=scrolledtext.ScrolledText(monty,width=30,height=3)\n",
    "scr.grid(column=0,columnspan=3)\n",
    "\n",
    "win.mainloop()"
   ]
  },
  {
   "cell_type": "markdown",
   "metadata": {},
   "source": [
    "# 例4-10"
   ]
  },
  {
   "cell_type": "code",
   "execution_count": 12,
   "metadata": {},
   "outputs": [
    {
     "name": "stdout",
     "output_type": "stream",
     "text": [
      "相加\n",
      "相减\n",
      "相乘\n",
      "相除\n"
     ]
    },
    {
     "data": {
      "text/plain": [
       "<__main__.MenuDemo at 0x50c8390>"
      ]
     },
     "execution_count": 12,
     "metadata": {},
     "output_type": "execute_result"
    }
   ],
   "source": [
    "#!/usr/bin/env python\n",
    "# -*- coding: utf-8 -*-\n",
    "# @Date    : 2018-11-19 21:08:34\n",
    "# @Author  : Guosheng Kang (guoshengkang@gmail.com)\n",
    "\n",
    "import os\n",
    "from tkinter import *\n",
    "import tkinter as tk\n",
    "from tkinter import ttk\n",
    "from tkinter import scrolledtext\n",
    "\n",
    "class MenuDemo:\n",
    "\t\"\"\"docstring for MenuDemo\"\"\"\n",
    "\tdef hello(self):\n",
    "\t\tprint(\"helllo!\")\n",
    "\n",
    "\tdef __init__(self):\n",
    "\t\twindow=Tk()\n",
    "\t\twindow.title(\"菜单演示\")\n",
    "\t\tmenubar=Menu(window) # 定义菜单条\n",
    "\t\twindow.config(menu=menubar)\n",
    "\n",
    "\t\t# 创建下拉菜单,并添加到菜单条\n",
    "\t\t# 在菜单条中定义“操作”菜单\n",
    "\t\toperationMenu=Menu(menubar,tearoff=0)\n",
    "\t\tmenubar.add_cascade(label=\"操作\",menu=operationMenu)\n",
    "\t\toperationMenu.add_command(label=\"加\",command=self.add)\n",
    "\t\toperationMenu.add_command(label=\"减\",command=self.subtract)\n",
    "\t\toperationMenu.add_separator()\n",
    "\t\toperationMenu.add_command(label=\"乘\",command=self.muptiply)\n",
    "\t\toperationMenu.add_command(label=\"除\",command=self.divide)\n",
    "\n",
    "\t\texitMenu=Menu(menubar,tearoff=0) # 在菜单中定义“推出”菜单\n",
    "\t\tmenubar.add_cascade(label=\"退出\",menu=exitMenu)\n",
    "\t\texitMenu.add_command(label=\"退出\",command=window.quit)\n",
    "\n",
    "\t\tmainloop()\n",
    "\n",
    "\tdef add(self):\n",
    "\t\tprint(\"相加\")\n",
    "\tdef subtract(self):\n",
    "\t\tprint(\"相减\")\n",
    "\tdef muptiply(self):\n",
    "\t\tprint(\"相乘\")\n",
    "\tdef divide(self):\n",
    "\t\tprint(\"相除\")\n",
    "\n",
    "MenuDemo()"
   ]
  },
  {
   "cell_type": "markdown",
   "metadata": {},
   "source": [
    "# 例4-12"
   ]
  },
  {
   "cell_type": "code",
   "execution_count": 1,
   "metadata": {},
   "outputs": [
    {
     "name": "stdout",
     "output_type": "stream",
     "text": [
      "True\n",
      "False\n",
      "yes\n",
      "no\n",
      "True\n",
      "False\n",
      "True\n",
      "False\n",
      "None\n"
     ]
    }
   ],
   "source": [
    "#!/usr/bin/env python\n",
    "# -*- coding: utf-8 -*-\n",
    "# @Date    : 2018-11-19 21:08:34\n",
    "# @Author  : Guosheng Kang (guoshengkang@gmail.com)\n",
    "\n",
    "import os\n",
    "import tkinter\n",
    "import tkinter.messagebox\n",
    "\n",
    "def but_askokcancel():\n",
    "\ta=tkinter.messagebox.askokcancel(\"提示\",\"要执行此操作吗\")\n",
    "\tprint(a)\n",
    "\n",
    "def but_askquestion():\n",
    "\ta=tkinter.messagebox.askquestion(\"提示\",\"要执行此操作吗\")\n",
    "\tprint(a)\n",
    "\n",
    "def but_askretrycancel():\n",
    "\ta=tkinter.messagebox.askretrycancel(\"提示\",\"要执行此操作吗\")\n",
    "\tprint(a)\n",
    "\n",
    "def but_askyesnocancel():\n",
    "\ta=tkinter.messagebox.askyesnocancel(\"提示\",\"要执行此操作吗\")\n",
    "\tprint(a)\n",
    "\n",
    "root=tkinter.Tk()\n",
    "root.title(\"消息对话框\")\n",
    "root.geometry('400x400')\n",
    "root.resizable(False,False)\n",
    "tkinter.Button(root,text='确定/取消对话框',command=but_askokcancel).pack()\n",
    "tkinter.Button(root,text='是/否对话框',command=but_askquestion).pack()\n",
    "tkinter.Button(root,text='重试/取消对话框',command=but_askretrycancel).pack()\n",
    "tkinter.Button(root,text='是/否/取消对话框',command=but_askyesnocancel).pack()\n",
    "\n",
    "root.mainloop()"
   ]
  },
  {
   "cell_type": "markdown",
   "metadata": {},
   "source": [
    "# 例4-15"
   ]
  },
  {
   "cell_type": "code",
   "execution_count": 2,
   "metadata": {},
   "outputs": [
    {
     "name": "stdout",
     "output_type": "stream",
     "text": [
      "click at: 35 31\n",
      "click at: 126 53\n",
      "click at: 147 74\n"
     ]
    }
   ],
   "source": [
    "#!/usr/bin/env python\n",
    "# -*- coding: utf-8 -*-\n",
    "# @Date    : 2018-11-19 21:08:34\n",
    "# @Author  : Guosheng Kang (guoshengkang@gmail.com)\n",
    "\n",
    "import os\n",
    "from tkinter import *\n",
    "\n",
    "def callback(event):\n",
    "\tprint(\"click at:\",event.x,event.y)\n",
    "\ts=(event.x,event.y)\n",
    "\ttxt.set(s)\n",
    "\n",
    "win=Tk()\n",
    "win.geometry('200x120')\n",
    "win.title(\"鼠标事件\")\n",
    "frame=Frame(win,width=200,height=100,bg='cyan')\n",
    "frame.bind(\"<Button-1>\",callback)\n",
    "frame.pack()\n",
    "\n",
    "txt=StringVar()\n",
    "L=Label(win,width=20,textvariable=txt)\n",
    "L.pack()\n",
    "win.mainloop()"
   ]
  },
  {
   "cell_type": "markdown",
   "metadata": {},
   "source": [
    "# 例4-17"
   ]
  },
  {
   "cell_type": "code",
   "execution_count": 3,
   "metadata": {},
   "outputs": [
    {
     "name": "stdout",
     "output_type": "stream",
     "text": [
      "OK\n"
     ]
    }
   ],
   "source": [
    "#!/usr/bin/env python\n",
    "# -*- coding: utf-8 -*-\n",
    "# @Date    : 2018-11-19 21:08:34\n",
    "# @Author  : Guosheng Kang (guoshengkang@gmail.com)\n",
    "\n",
    "import os\n",
    "import tkinter\n",
    "from tkinter import *\n",
    "\n",
    "# 创建横条型框架\n",
    "def frame(root,side):\n",
    "\tf=Frame(root)\n",
    "\tf.pack(side=side,expand=YES,fill=BOTH)\n",
    "\treturn f\n",
    "\n",
    "# 统一定义按钮样式和风格\n",
    "def button(root,side,text,command=None):\n",
    "\tbtn=Button(root,text=text,font=('宋体','12'),command=command)\n",
    "\tbtn.pack(side=side,expand=YES,fill=BOTH)\n",
    "\treturn btn\n",
    "\n",
    "# 继承了Frame类，初始化程序界面的布局\n",
    "class Calculator(Frame):\n",
    "\tdef __init__(self):\n",
    "\t\tFrame.__init__(self)\n",
    "\t\tself.pack(expand=YES,fill=BOTH)\n",
    "\t\tself.master.title('简易计算器')\n",
    "\t\tdisplay=StringVar()\n",
    "\n",
    "\t\t# 添加显示数字结果的文本框\n",
    "\t\tEntry(self,relief=SUNKEN,font=('宋体','20','bold'),\\\n",
    "\t\t\ttextvariable=display).pack(side=TOP,expand=YES,fill=BOTH)\n",
    "\n",
    "\t\t# 添加清楚按钮\n",
    "\t\tclearF=frame(self,TOP)\n",
    "\t\tbutton(clearF,LEFT,'清楚',lambda w=display:w.set(''))\n",
    "\n",
    "\t\t# 添加横条型框架以及里面的按钮\n",
    "\t\tfor key in ('123+','456-','789*','.0=/'):\n",
    "\t\t\tkeyF=frame(self,TOP)\n",
    "\t\t\tfor char in key:\n",
    "\t\t\t\tif char=='=':\n",
    "\t\t\t\t\tbtn=button(keyF,LEFT,char)\n",
    "\t\t\t\t\tbtn.bind('<ButtonRelease-1>',\\\n",
    "\t\t\t\t\t\tlambda e,s=self,w=display:s.calc(w))\n",
    "\t\t\t\telse:\n",
    "\t\t\t\t\tbtn=button(keyF,LEFT,char,\\\n",
    "\t\t\t\t\t\tlambda w=display,c=char:w.set(w.get()+c))\n",
    "\n",
    "\t# 调用eval函数计算表达式的值\n",
    "\tdef calc(self,display):\n",
    "\t\ttry:\n",
    "\t\t\tdisplay.set(eval(display.get()))\n",
    "\t\texcept:\n",
    "\t\t\tdisplay.set(\"ERROR\")\n",
    "\n",
    "if __name__=='__main__':\n",
    "\tprint('OK')\n",
    "\tCalculator().mainloop()"
   ]
  },
  {
   "cell_type": "code",
   "execution_count": null,
   "metadata": {},
   "outputs": [],
   "source": []
  }
 ],
 "metadata": {
  "kernelspec": {
   "display_name": "Python 3",
   "language": "python",
   "name": "python3"
  },
  "language_info": {
   "codemirror_mode": {
    "name": "ipython",
    "version": 3
   },
   "file_extension": ".py",
   "mimetype": "text/x-python",
   "name": "python",
   "nbconvert_exporter": "python",
   "pygments_lexer": "ipython3",
   "version": "3.6.5"
  }
 },
 "nbformat": 4,
 "nbformat_minor": 2
}
