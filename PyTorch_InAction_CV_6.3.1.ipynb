{
 "cells": [
  {
   "cell_type": "code",
   "execution_count": 1,
   "metadata": {},
   "outputs": [
    {
     "name": "stdout",
     "output_type": "stream",
     "text": [
      "Sequential(\n",
      "  (Line1): Linear(in_features=1000, out_features=100)\n",
      "  (Relu1): ReLU()\n",
      "  (Line2): Linear(in_features=100, out_features=10)\n",
      ")\n",
      "Epoch:0,Loss:1.0799\n",
      "Epoch:100,Loss:1.0798\n",
      "Epoch:200,Loss:1.0797\n",
      "Epoch:300,Loss:1.0796\n",
      "Epoch:400,Loss:1.0796\n",
      "Epoch:500,Loss:1.0795\n",
      "Epoch:600,Loss:1.0794\n",
      "Epoch:700,Loss:1.0793\n",
      "Epoch:800,Loss:1.0792\n",
      "Epoch:900,Loss:1.0791\n"
     ]
    }
   ],
   "source": [
    "import  torch\n",
    "from torch.autograd import Variable\n",
    "from collections import OrderedDict\n",
    "\n",
    "batch_n=100\n",
    "hidden_layer=100\n",
    "input_data=1000\n",
    "output_data=10\n",
    "\n",
    "loss_f=torch.nn.MSELoss()\n",
    "x=Variable(torch.randn(batch_n,input_data),requires_grad=False)\n",
    "y=Variable(torch.randn(batch_n,output_data),requires_grad=False)\n",
    "\n",
    "# models=torch.nn.Sequential(\n",
    "# \ttorch.nn.Linear(input_data,hidden_layer),\n",
    "# \ttorch.nn.ReLU(),\n",
    "# \ttorch.nn.Linear(hidden_layer,output_data)\n",
    "# \t)\n",
    "# print(models)\n",
    "\n",
    "models=torch.nn.Sequential(OrderedDict([\n",
    "\t(\"Line1\",torch.nn.Linear(input_data,hidden_layer)),\n",
    "\t(\"Relu1\",torch.nn.ReLU()),\n",
    "\t(\"Line2\",torch.nn.Linear(hidden_layer,output_data))])\n",
    "\t)\n",
    "print(models)\n",
    "\n",
    "epoch_n=1000\n",
    "learning_rate=1e-6\n",
    "\n",
    "for epoch in range(epoch_n):\n",
    "\ty_pred=models(x)\n",
    "\tloss=loss_f(y_pred,y)\n",
    "\tif  epoch%100==0:\n",
    "\t\tprint(\"Epoch:{},Loss:{:.4f}\".format(epoch,loss.data[0]))\n",
    "\tmodels.zero_grad()\n",
    "\n",
    "\tloss.backward()\n",
    "\n",
    "\tfor param in models.parameters():\n",
    "\t\tparam.data-=param.grad.data*learning_rate\n",
    "\n"
   ]
  }
 ],
 "metadata": {
  "kernelspec": {
   "display_name": "Python 3",
   "language": "python",
   "name": "python3"
  },
  "language_info": {
   "codemirror_mode": {
    "name": "ipython",
    "version": 3
   },
   "file_extension": ".py",
   "mimetype": "text/x-python",
   "name": "python",
   "nbconvert_exporter": "python",
   "pygments_lexer": "ipython3",
   "version": "3.6.5"
  }
 },
 "nbformat": 4,
 "nbformat_minor": 2
}
