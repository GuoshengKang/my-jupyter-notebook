{
 "cells": [
  {
   "cell_type": "code",
   "execution_count": 1,
   "metadata": {},
   "outputs": [
    {
     "name": "stdout",
     "output_type": "stream",
     "text": [
      "Epoch:0,Loss:55343236.0000\n",
      "Epoch:1,Loss:148305952.0000\n",
      "Epoch:2,Loss:544495936.0000\n",
      "Epoch:3,Loss:626433600.0000\n",
      "Epoch:4,Loss:3948254.2500\n",
      "Epoch:5,Loss:3027602.7500\n",
      "Epoch:6,Loss:2409255.0000\n",
      "Epoch:7,Loss:1976447.1250\n",
      "Epoch:8,Loss:1662648.2500\n",
      "Epoch:9,Loss:1428337.3750\n",
      "Epoch:10,Loss:1248321.6250\n",
      "Epoch:11,Loss:1105920.3750\n",
      "Epoch:12,Loss:990710.1250\n",
      "Epoch:13,Loss:895873.1875\n",
      "Epoch:14,Loss:816409.3750\n",
      "Epoch:15,Loss:748673.1250\n",
      "Epoch:16,Loss:690214.2500\n",
      "Epoch:17,Loss:639154.1875\n",
      "Epoch:18,Loss:594197.5000\n",
      "Epoch:19,Loss:554208.8750\n"
     ]
    }
   ],
   "source": [
    "import  torch\n",
    "from torch.autograd import Variable\n",
    "\n",
    "batch_n=100\n",
    "hidden_layer=100\n",
    "input_data=1000\n",
    "output_data=10\n",
    "\n",
    "x=Variable(torch.randn(batch_n,input_data),requires_grad=False)\n",
    "y=Variable(torch.randn(batch_n,output_data),requires_grad=False)\n",
    "\n",
    "w1=Variable(torch.randn(input_data,hidden_layer),requires_grad=True)\n",
    "w2=Variable(torch.randn(hidden_layer,output_data),requires_grad=True)\n",
    "\n",
    "epoch_n=20\n",
    "learning_rate=1e-6\n",
    "\n",
    "for epoch in range(epoch_n):\n",
    "\th1=x.mm(w1) # 100*100\n",
    "\th1=h1.clamp(min=0)\n",
    "\ty_pred=h1.mm(w2) # 100*10\n",
    "\tloss=(y_pred-y).pow(2).sum()\n",
    "\tprint(\"Epoch:{},Loss:{:.4f}\".format(epoch,loss.data[0]))\n",
    "\n",
    "\tloss.backward()\n",
    "\n",
    "\tw1.data-=learning_rate*w1.grad.data\n",
    "\tw2.data-=learning_rate*w2.grad.data\n",
    "\n",
    "\tw1.grad.data.zero_()\n",
    "\tw2.grad.data.zero_()"
   ]
  },
  {
   "cell_type": "code",
   "execution_count": null,
   "metadata": {},
   "outputs": [],
   "source": []
  }
 ],
 "metadata": {
  "kernelspec": {
   "display_name": "Python 3",
   "language": "python",
   "name": "python3"
  },
  "language_info": {
   "codemirror_mode": {
    "name": "ipython",
    "version": 3
   },
   "file_extension": ".py",
   "mimetype": "text/x-python",
   "name": "python",
   "nbconvert_exporter": "python",
   "pygments_lexer": "ipython3",
   "version": "3.6.5"
  }
 },
 "nbformat": 4,
 "nbformat_minor": 2
}
