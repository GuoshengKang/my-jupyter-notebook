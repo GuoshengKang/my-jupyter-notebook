{
 "cells": [
  {
   "cell_type": "markdown",
   "metadata": {},
   "source": [
    "# 目录\n",
    "- **例8-1 server**\n",
    "- **例8-1 client**"
   ]
  },
  {
   "cell_type": "markdown",
   "metadata": {},
   "source": [
    "# 例8-1 server.py"
   ]
  },
  {
   "cell_type": "code",
   "execution_count": null,
   "metadata": {},
   "outputs": [
    {
     "name": "stdout",
     "output_type": "stream",
     "text": [
      "等待客户机连接......\n",
      "\n",
      "连接的客户机来自于： ('127.0.0.1', 58556)\n",
      "接受客户机信息： 已收到服务器发来的信息！\n",
      "等待客户机连接......\n",
      "\n",
      "连接的客户机来自于： ('127.0.0.1', 58557)\n",
      "接受客户机信息： 已收到服务器发来的信息！\n",
      "等待客户机连接......\n",
      "\n"
     ]
    }
   ],
   "source": [
    "#!/usr/bin/env python\n",
    "# -*- coding: utf-8 -*-\n",
    "# @Date    : 2018-11-26 12:09:30\n",
    "# @Author  : Guosheng Kang (guoshengkang@gmail.com)\n",
    "\n",
    "import os\n",
    "from socket import *\n",
    "HOST='127.0.0.1'\n",
    "PORT=4321\n",
    "ADDR=(HOST,PORT)\n",
    "ss=socket(AF_INET,SOCK_STREAM,0)\n",
    "ss.bind(ADDR)\n",
    "ss.listen(10)\n",
    "while True:\n",
    "\tprint('等待客户机连接......\\n')\n",
    "\tcs,caddr=ss.accept()\n",
    "\tprint('连接的客户机来自于：',caddr)\n",
    "\tstr='欢迎你访问本机服务器'\n",
    "\tcs.sendall(bytes(str,'UTF-8'))\n",
    "\tmsg=cs.recv(1024).decode()\n",
    "\tprint('接受客户机信息：',msg)\n",
    "\tcs.close()\n",
    "ss.close()"
   ]
  },
  {
   "cell_type": "markdown",
   "metadata": {},
   "source": [
    "# 例8-1 client.py"
   ]
  },
  {
   "cell_type": "code",
   "execution_count": null,
   "metadata": {},
   "outputs": [],
   "source": [
    "#!/usr/bin/env python\n",
    "# -*- coding: utf-8 -*-\n",
    "# @Date    : 2018-11-26 12:15:52\n",
    "# @Author  : Guosheng Kang (guoshengkang@gmail.com)\n",
    "\n",
    "import os\n",
    "from socket import *\n",
    "import tkinter\n",
    "from tkinter import scrolledtext\n",
    "\n",
    "win=tkinter.Tk()\n",
    "win.title('客户端程序')\n",
    "\n",
    "monty=tkinter.LabelFrame(win,text='接收信息')\n",
    "monty.grid(column=0,row=0,padx=10,pady=10)\n",
    "\n",
    "scrolW=60\n",
    "scrolH=5\n",
    "txt_recv=scrolledtext.ScrolledText(monty,width=scrolW,height=scrolH)\n",
    "txt_recv.grid(column=0,columnspan=3)\n",
    "\n",
    "def conn():\n",
    "\tHOST='127.0.0.1'\n",
    "\tPORT=4321\n",
    "\tADDR=(HOST,PORT)\n",
    "\tcs=socket(AF_INET,SOCK_STREAM,0)\n",
    "\tcs.connect(ADDR)\n",
    "\n",
    "\tdata=cs.recv(1024).decode()\n",
    "\tmsgcontent='接收到服务器发来的信息：\\n'\n",
    "\ttxt_recv.insert('end',msgcontent+data,'green')\n",
    "\n",
    "\tstr='已收到服务器发来的信息！'\n",
    "\tcs.sendall(bytes(str,'UTF-8'))\n",
    "\tcs.close()\n",
    "\n",
    "action=tkinter.Button(monty,text='连接服务器',command=conn)\n",
    "action.grid(column=2,row=1)\n",
    "win.mainloop()"
   ]
  },
  {
   "cell_type": "code",
   "execution_count": null,
   "metadata": {},
   "outputs": [],
   "source": []
  }
 ],
 "metadata": {
  "kernelspec": {
   "display_name": "Python 3",
   "language": "python",
   "name": "python3"
  },
  "language_info": {
   "codemirror_mode": {
    "name": "ipython",
    "version": 3
   },
   "file_extension": ".py",
   "mimetype": "text/x-python",
   "name": "python",
   "nbconvert_exporter": "python",
   "pygments_lexer": "ipython3",
   "version": "3.6.5"
  }
 },
 "nbformat": 4,
 "nbformat_minor": 2
}
